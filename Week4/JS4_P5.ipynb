{
  "nbformat": 4,
  "nbformat_minor": 0,
  "metadata": {
    "colab": {
      "provenance": [],
      "authorship_tag": "ABX9TyNXxzgp6BgThQSQklsZhXPO",
      "include_colab_link": true
    },
    "kernelspec": {
      "name": "python3",
      "display_name": "Python 3"
    },
    "language_info": {
      "name": "python"
    }
  },
  "cells": [
    {
      "cell_type": "markdown",
      "metadata": {
        "id": "view-in-github",
        "colab_type": "text"
      },
      "source": [
        "<a href=\"https://colab.research.google.com/github/Febilid/Pem_Mesin/blob/main/JS4_P5.ipynb\" target=\"_parent\"><img src=\"https://colab.research.google.com/assets/colab-badge.svg\" alt=\"Open In Colab\"/></a>"
      ]
    },
    {
      "cell_type": "code",
      "execution_count": 1,
      "metadata": {
        "id": "xD7KM-3nDGfr"
      },
      "outputs": [],
      "source": [
        "# Import Required Libraries\n",
        "from pathlib import Path\n",
        "import matplotlib.image as mpimg\n",
        "import matplotlib.pyplot as plt\n",
        "import cv2\n",
        "import random\n",
        "import numpy as np\n",
        "import pandas as pd"
      ]
    },
    {
      "cell_type": "code",
      "source": [
        "# Image directories\n",
        "train_dir = \"images/training/\"\n",
        "test_dir = \"images/test/\""
      ],
      "metadata": {
        "id": "sEoT6NTtDLh1"
      },
      "execution_count": 2,
      "outputs": []
    },
    {
      "cell_type": "code",
      "source": [
        "def load_dataset(img_dir):\n",
        "    p = Path(img_dir)\n",
        "    dirs = p.glob('*')\n",
        "\n",
        "    img_list = []\n",
        "\n",
        "    for dir in dirs:\n",
        "        label = str(dir).split('/')[-1]\n",
        "        for file in dir.glob('*.jpg'):\n",
        "            img = mpimg.imread(file)\n",
        "\n",
        "            if not img is None:\n",
        "                img_list.append((img, label))\n",
        "\n",
        "    return img_list"
      ],
      "metadata": {
        "id": "RBCNnUpmDOIf"
      },
      "execution_count": 3,
      "outputs": []
    },
    {
      "cell_type": "code",
      "source": [
        "# Load training data\n",
        "train_img = load_dataset(train_dir)"
      ],
      "metadata": {
        "id": "pk6i1aplDP2S"
      },
      "execution_count": 4,
      "outputs": []
    },
    {
      "cell_type": "code",
      "source": [
        "# Check the first data\n",
        "# It should be a tuple consist of arrays of image and image labels\n",
        "train_img[0]"
      ],
      "metadata": {
        "colab": {
          "base_uri": "https://localhost:8080/",
          "height": 183
        },
        "id": "4bScHPSjDQRG",
        "outputId": "5293345f-c9f7-4494-a7cc-ea1222afd060"
      },
      "execution_count": 7,
      "outputs": [
        {
          "output_type": "error",
          "ename": "IndexError",
          "evalue": "list index out of range",
          "traceback": [
            "\u001b[0;31m---------------------------------------------------------------------------\u001b[0m",
            "\u001b[0;31mIndexError\u001b[0m                                Traceback (most recent call last)",
            "\u001b[0;32m<ipython-input-7-f9eb85e8a341>\u001b[0m in \u001b[0;36m<cell line: 3>\u001b[0;34m()\u001b[0m\n\u001b[1;32m      1\u001b[0m \u001b[0;31m# Check the first data\u001b[0m\u001b[0;34m\u001b[0m\u001b[0;34m\u001b[0m\u001b[0m\n\u001b[1;32m      2\u001b[0m \u001b[0;31m# It should be a tuple consist of arrays of image and image labels\u001b[0m\u001b[0;34m\u001b[0m\u001b[0;34m\u001b[0m\u001b[0m\n\u001b[0;32m----> 3\u001b[0;31m \u001b[0mtrain_img\u001b[0m\u001b[0;34m[\u001b[0m\u001b[0;36m0\u001b[0m\u001b[0;34m]\u001b[0m\u001b[0;34m\u001b[0m\u001b[0;34m\u001b[0m\u001b[0m\n\u001b[0m",
            "\u001b[0;31mIndexError\u001b[0m: list index out of range"
          ]
        }
      ]
    },
    {
      "cell_type": "code",
      "source": [
        "# Random size checking\n",
        "pick_random = np.random.randint(0, len(train_img))\n",
        "\n",
        "# Check img size\n",
        "print(f'Image {pick_random}')\n",
        "print(train_img[pick_random][0].shape)"
      ],
      "metadata": {
        "colab": {
          "base_uri": "https://localhost:8080/",
          "height": 292
        },
        "id": "EhJD_kLRDR_s",
        "outputId": "b9eaa9a7-e0dd-4efe-e1d9-5d81323d6b2e"
      },
      "execution_count": 6,
      "outputs": [
        {
          "output_type": "error",
          "ename": "ValueError",
          "evalue": "high <= 0",
          "traceback": [
            "\u001b[0;31m---------------------------------------------------------------------------\u001b[0m",
            "\u001b[0;31mValueError\u001b[0m                                Traceback (most recent call last)",
            "\u001b[0;32m<ipython-input-6-c09e6e4b7c6f>\u001b[0m in \u001b[0;36m<cell line: 2>\u001b[0;34m()\u001b[0m\n\u001b[1;32m      1\u001b[0m \u001b[0;31m# Random size checking\u001b[0m\u001b[0;34m\u001b[0m\u001b[0;34m\u001b[0m\u001b[0m\n\u001b[0;32m----> 2\u001b[0;31m \u001b[0mpick_random\u001b[0m \u001b[0;34m=\u001b[0m \u001b[0mnp\u001b[0m\u001b[0;34m.\u001b[0m\u001b[0mrandom\u001b[0m\u001b[0;34m.\u001b[0m\u001b[0mrandint\u001b[0m\u001b[0;34m(\u001b[0m\u001b[0;36m0\u001b[0m\u001b[0;34m,\u001b[0m \u001b[0mlen\u001b[0m\u001b[0;34m(\u001b[0m\u001b[0mtrain_img\u001b[0m\u001b[0;34m)\u001b[0m\u001b[0;34m)\u001b[0m\u001b[0;34m\u001b[0m\u001b[0;34m\u001b[0m\u001b[0m\n\u001b[0m\u001b[1;32m      3\u001b[0m \u001b[0;34m\u001b[0m\u001b[0m\n\u001b[1;32m      4\u001b[0m \u001b[0;31m# Check img size\u001b[0m\u001b[0;34m\u001b[0m\u001b[0;34m\u001b[0m\u001b[0m\n\u001b[1;32m      5\u001b[0m \u001b[0mprint\u001b[0m\u001b[0;34m(\u001b[0m\u001b[0;34mf'Image {pick_random}'\u001b[0m\u001b[0;34m)\u001b[0m\u001b[0;34m\u001b[0m\u001b[0;34m\u001b[0m\u001b[0m\n",
            "\u001b[0;32mnumpy/random/mtrand.pyx\u001b[0m in \u001b[0;36mnumpy.random.mtrand.RandomState.randint\u001b[0;34m()\u001b[0m\n",
            "\u001b[0;32mnumpy/random/_bounded_integers.pyx\u001b[0m in \u001b[0;36mnumpy.random._bounded_integers._rand_int64\u001b[0;34m()\u001b[0m\n",
            "\u001b[0;31mValueError\u001b[0m: high <= 0"
          ]
        }
      ]
    },
    {
      "cell_type": "code",
      "source": [
        "# Function to Visualize\n",
        "def random_img_viz(img_list):\n",
        "    rand_num = np.random.randint(0, len(img_list))\n",
        "\n",
        "    img = img_list[rand_num][0]\n",
        "    label = img_list[rand_num][1]\n",
        "    label_str = 'day' if label == 1 else 'night'\n",
        "\n",
        "    plt.imshow(img)\n",
        "    print(f'Shape\\t: {img.shape}')\n",
        "    print(f'Label\\t: {label}')"
      ],
      "metadata": {
        "id": "Bc6fA9yBDTxr"
      },
      "execution_count": 8,
      "outputs": []
    },
    {
      "cell_type": "code",
      "source": [
        "random_img_viz(train_img)"
      ],
      "metadata": {
        "colab": {
          "base_uri": "https://localhost:8080/",
          "height": 347
        },
        "id": "7OZBPEkBDVVR",
        "outputId": "ca16a5f2-2747-4925-c721-fb254165c0e2"
      },
      "execution_count": 9,
      "outputs": [
        {
          "output_type": "error",
          "ename": "ValueError",
          "evalue": "high <= 0",
          "traceback": [
            "\u001b[0;31m---------------------------------------------------------------------------\u001b[0m",
            "\u001b[0;31mValueError\u001b[0m                                Traceback (most recent call last)",
            "\u001b[0;32m<ipython-input-9-c4913f03249f>\u001b[0m in \u001b[0;36m<cell line: 1>\u001b[0;34m()\u001b[0m\n\u001b[0;32m----> 1\u001b[0;31m \u001b[0mrandom_img_viz\u001b[0m\u001b[0;34m(\u001b[0m\u001b[0mtrain_img\u001b[0m\u001b[0;34m)\u001b[0m\u001b[0;34m\u001b[0m\u001b[0;34m\u001b[0m\u001b[0m\n\u001b[0m",
            "\u001b[0;32m<ipython-input-8-ec0a05551ba4>\u001b[0m in \u001b[0;36mrandom_img_viz\u001b[0;34m(img_list)\u001b[0m\n\u001b[1;32m      1\u001b[0m \u001b[0;31m# Function to Visualize\u001b[0m\u001b[0;34m\u001b[0m\u001b[0;34m\u001b[0m\u001b[0m\n\u001b[1;32m      2\u001b[0m \u001b[0;32mdef\u001b[0m \u001b[0mrandom_img_viz\u001b[0m\u001b[0;34m(\u001b[0m\u001b[0mimg_list\u001b[0m\u001b[0;34m)\u001b[0m\u001b[0;34m:\u001b[0m\u001b[0;34m\u001b[0m\u001b[0;34m\u001b[0m\u001b[0m\n\u001b[0;32m----> 3\u001b[0;31m     \u001b[0mrand_num\u001b[0m \u001b[0;34m=\u001b[0m \u001b[0mnp\u001b[0m\u001b[0;34m.\u001b[0m\u001b[0mrandom\u001b[0m\u001b[0;34m.\u001b[0m\u001b[0mrandint\u001b[0m\u001b[0;34m(\u001b[0m\u001b[0;36m0\u001b[0m\u001b[0;34m,\u001b[0m \u001b[0mlen\u001b[0m\u001b[0;34m(\u001b[0m\u001b[0mimg_list\u001b[0m\u001b[0;34m)\u001b[0m\u001b[0;34m)\u001b[0m\u001b[0;34m\u001b[0m\u001b[0;34m\u001b[0m\u001b[0m\n\u001b[0m\u001b[1;32m      4\u001b[0m \u001b[0;34m\u001b[0m\u001b[0m\n\u001b[1;32m      5\u001b[0m     \u001b[0mimg\u001b[0m \u001b[0;34m=\u001b[0m \u001b[0mimg_list\u001b[0m\u001b[0;34m[\u001b[0m\u001b[0mrand_num\u001b[0m\u001b[0;34m]\u001b[0m\u001b[0;34m[\u001b[0m\u001b[0;36m0\u001b[0m\u001b[0;34m]\u001b[0m\u001b[0;34m\u001b[0m\u001b[0;34m\u001b[0m\u001b[0m\n",
            "\u001b[0;32mnumpy/random/mtrand.pyx\u001b[0m in \u001b[0;36mnumpy.random.mtrand.RandomState.randint\u001b[0;34m()\u001b[0m\n",
            "\u001b[0;32mnumpy/random/_bounded_integers.pyx\u001b[0m in \u001b[0;36mnumpy.random._bounded_integers._rand_int64\u001b[0;34m()\u001b[0m\n",
            "\u001b[0;31mValueError\u001b[0m: high <= 0"
          ]
        }
      ]
    },
    {
      "cell_type": "code",
      "source": [
        "def standarized_input(image):\n",
        "    # resize to w: 1100, h:600\n",
        "    std_img = cv2.resize(image, (1100,600))\n",
        "\n",
        "    return std_img"
      ],
      "metadata": {
        "id": "ZGg8CZfJDW7v"
      },
      "execution_count": null,
      "outputs": []
    },
    {
      "cell_type": "code",
      "source": [
        "def label_encoder(label):\n",
        "    # Encode the label\n",
        "    # day as 1; night as 0\n",
        "    num_val = 0\n",
        "\n",
        "    if(label == 'day'):\n",
        "        num_val = 1\n",
        "\n",
        "    return num_val"
      ],
      "metadata": {
        "id": "Iq4rfWtsDY0E"
      },
      "execution_count": null,
      "outputs": []
    },
    {
      "cell_type": "code",
      "source": [
        "def preprocess(img_list):\n",
        "    std_img_list = []\n",
        "\n",
        "    for item in img_list:\n",
        "        image = item[0]\n",
        "        label = item[1]\n",
        "\n",
        "        # Standarized the image\n",
        "        std_img = standarized_input(image)\n",
        "\n",
        "        # Create the label\n",
        "        img_label = label_encoder(label)\n",
        "\n",
        "        std_img_list.append((std_img, img_label))\n",
        "\n",
        "    return std_img_list"
      ],
      "metadata": {
        "id": "UaFCNE4wDaOP"
      },
      "execution_count": null,
      "outputs": []
    },
    {
      "cell_type": "code",
      "source": [
        "train_std_img_list = preprocess(train_img)"
      ],
      "metadata": {
        "id": "BvSAYcMzDbyf"
      },
      "execution_count": null,
      "outputs": []
    },
    {
      "cell_type": "code",
      "source": [
        "# Random size checking\n",
        "pick_random = np.random.randint(0, len(train_std_img_list))\n",
        "\n",
        "# Check img size\n",
        "print(f'Image {pick_random}')\n",
        "print(train_std_img_list[pick_random][0].shape)"
      ],
      "metadata": {
        "id": "rYQhvFU9DdQj"
      },
      "execution_count": null,
      "outputs": []
    },
    {
      "cell_type": "code",
      "source": [
        "random_img_viz(train_std_img_list)"
      ],
      "metadata": {
        "id": "YV9MRWjwDeic"
      },
      "execution_count": null,
      "outputs": []
    },
    {
      "cell_type": "code",
      "source": [
        "# Get feature based on average brightness using HSV colorspace\n",
        "def avg_brightness(image):\n",
        "    # Convert image to HSV\n",
        "    img_hsv = cv2.cvtColor(image, cv2.COLOR_RGB2HSV)\n",
        "\n",
        "    # Calculate the avg of brightness\n",
        "    sum_brightness = np.sum(img_hsv[:,:,2]) # take the 3rb value which is the V channel\n",
        "    area = image.shape[0] * image.shape[1]\n",
        "    avg = sum_brightness / area\n",
        "\n",
        "    return avg"
      ],
      "metadata": {
        "id": "nOeiZNChDge9"
      },
      "execution_count": null,
      "outputs": []
    },
    {
      "cell_type": "code",
      "source": [
        "# Check on random image\n",
        "rand_img = np.random.randint(0, len(train_std_img_list))\n",
        "\n",
        "feature_img = train_std_img_list[rand_img][0]\n",
        "\n",
        "avg_img = avg_brightness(feature_img)\n",
        "\n",
        "print(f'Image {rand_img}')\n",
        "print(f'Avg Brighness: {avg_img:.4f}')\n",
        "plt.imshow(feature_img)"
      ],
      "metadata": {
        "id": "WACiUxlvDiVc"
      },
      "execution_count": null,
      "outputs": []
    },
    {
      "cell_type": "code",
      "source": [
        "def predict_label(img, threshold):\n",
        "    # Computer average brightness\n",
        "    avg = avg_brightness(img)\n",
        "    pred = 0\n",
        "\n",
        "    # Predict the label based on user defined threshold\n",
        "    if avg > threshold:\n",
        "        pred = 1\n",
        "\n",
        "    return pred"
      ],
      "metadata": {
        "id": "DTeJiSFpDj-7"
      },
      "execution_count": null,
      "outputs": []
    },
    {
      "cell_type": "code",
      "source": [
        "# Test the classifier on train data\n",
        "rand_img = np.random.randint(0, len(train_std_img_list))\n",
        "\n",
        "pred = predict_label(train_std_img_list[rand_img][0], threshold=120)\n",
        "\n",
        "# Evaluate\n",
        "print(f'Image {rand_img}')\n",
        "print(f'Actual label: {train_std_img_list[rand_img][1]}')\n",
        "print(f'Predicted label: {pred}')\n",
        "plt.imshow(train_std_img_list[rand_img][0])"
      ],
      "metadata": {
        "id": "1WsBR26sDpUx"
      },
      "execution_count": null,
      "outputs": []
    },
    {
      "cell_type": "code",
      "source": [
        "def evaluate(img_list, threshold):\n",
        "    miss_labels = []\n",
        "\n",
        "    for file in img_list:\n",
        "        # Get the ground truth / correct label\n",
        "        img = file[0]\n",
        "        label = file[1]\n",
        "\n",
        "        # Get prediction\n",
        "        pred_label = predict_label(img, threshold)\n",
        "\n",
        "        # Compare ground truth and pred\n",
        "        if pred_label != label:\n",
        "            miss_labels.append((img, pred_label, label))\n",
        "\n",
        "    total_img = len(img_list)\n",
        "    corr_pred = total_img - len(miss_labels)\n",
        "    accuracy = corr_pred / total_img\n",
        "\n",
        "    print(f'Accuracy: {accuracy:.4f}')"
      ],
      "metadata": {
        "id": "QWLtqGLLDpxp"
      },
      "execution_count": null,
      "outputs": []
    },
    {
      "cell_type": "code",
      "source": [
        "# Evaluate on train data\n",
        "evaluate(train_std_img_list, threshold=120)"
      ],
      "metadata": {
        "id": "ZSIf8r7rDrt3"
      },
      "execution_count": null,
      "outputs": []
    },
    {
      "cell_type": "code",
      "source": [
        "# Evaluate on test data\n",
        "\n",
        "# Load test data\n",
        "test_img = load_dataset(test_dir)\n",
        "\n",
        "# Preprocess\n",
        "test_std_img_list = preprocess(test_img)\n",
        "\n",
        "# Predict\n",
        "evaluate(test_std_img_list, threshold=120)"
      ],
      "metadata": {
        "id": "INTwdAxgDxR3"
      },
      "execution_count": null,
      "outputs": []
    },
    {
      "cell_type": "code",
      "source": [
        "# Create function to extract feature for every images and stored in tabular data\n",
        "# Stored in Pandas dataframe\n",
        "def extract_avg_bright_feature(img_list):\n",
        "    avg_list = []\n",
        "    labels = []\n",
        "\n",
        "    for img in img_list:\n",
        "        img_avg = avg_brightness(img[0]) # Get the avg brightness from image\n",
        "        img_label = img[1] # Get the image label\n",
        "\n",
        "        avg_list.append(img_avg)\n",
        "        labels.append(img_label)\n",
        "\n",
        "    # Stack data in columcular way\n",
        "    data = np.column_stack((avg_list, labels))\n",
        "    # Create a Pandas dataframe\n",
        "    df = pd.DataFrame(data, columns=['AVG_BRIGHT', 'LABELS'])\n",
        "\n",
        "    return df"
      ],
      "metadata": {
        "id": "EntsCRwCDzbJ"
      },
      "execution_count": null,
      "outputs": []
    },
    {
      "cell_type": "code",
      "source": [
        "# Extract feature on train data\n",
        "train_avg_img = extract_avg_bright_feature(train_std_img_list)\n",
        "print(f'Shape: {train_avg_img.shape}')\n",
        "train_avg_img.head()"
      ],
      "metadata": {
        "id": "0PNQw9gbD0-F"
      },
      "execution_count": null,
      "outputs": []
    },
    {
      "cell_type": "code",
      "source": [
        "# Do the same thing on test data\n",
        "test_avg_img = extract_avg_bright_feature(test_std_img_list)\n",
        "print(f'Shape: {test_avg_img.shape}')\n",
        "test_avg_img.head()"
      ],
      "metadata": {
        "id": "7Z1QwW2ED3AV"
      },
      "execution_count": null,
      "outputs": []
    },
    {
      "cell_type": "code",
      "source": [
        "# import requied library\n",
        "from sklearn.svm import SVC\n",
        "\n",
        "# Split data and label\n",
        "X_train = train_avg_img.iloc[:,0].values.reshape(-1,1)\n",
        "y_train = train_avg_img.iloc[:,1]\n",
        "X_test = test_avg_img.iloc[:,0].values.reshape(-1,1)\n",
        "y_test = test_avg_img.iloc[:,1]\n",
        "\n",
        "model = SVC()\n",
        "model.fit(X_train, y_train)"
      ],
      "metadata": {
        "id": "9rwZwf9UD4u-"
      },
      "execution_count": null,
      "outputs": []
    },
    {
      "cell_type": "code",
      "source": [
        "from sklearn.metrics import accuracy_score\n",
        "\n",
        "# Make a prediction on train data\n",
        "y_train_pred = model.predict(X_train)\n",
        "\n",
        "# Get the accuracy on train data\n",
        "acc_train = accuracy_score(y_train, y_train_pred)\n",
        "\n",
        "# Make a prediction on test data\n",
        "y_test_pred = model.predict(X_test)\n",
        "\n",
        "# Get the accuracy on test data\n",
        "acc_test = accuracy_score(y_test, y_test_pred)\n",
        "\n",
        "# Print Eval Result\n",
        "print(f'Accuracy on train: {acc_train}')\n",
        "print(f'Accuracy on test: {acc_test}')"
      ],
      "metadata": {
        "id": "Ni1b6554D6Ys"
      },
      "execution_count": null,
      "outputs": []
    }
  ]
}